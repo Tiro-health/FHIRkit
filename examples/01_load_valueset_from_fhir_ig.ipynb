{
 "cells": [
  {
   "cell_type": "code",
   "execution_count": 1,
   "metadata": {},
   "outputs": [
    {
     "ename": "ModuleNotFoundError",
     "evalue": "No module named 'fhirkit'",
     "output_type": "error",
     "traceback": [
      "\u001b[0;31m---------------------------------------------------------------------------\u001b[0m",
      "\u001b[0;31mModuleNotFoundError\u001b[0m                       Traceback (most recent call last)",
      "\u001b[1;32m/Users/axelvanraes/dev/fhirkit/examples/01_load_valueset_from_fhir_ig.ipynb Cell 1'\u001b[0m in \u001b[0;36m<cell line: 1>\u001b[0;34m()\u001b[0m\n\u001b[0;32m----> <a href='vscode-notebook-cell:/Users/axelvanraes/dev/fhirkit/examples/01_load_valueset_from_fhir_ig.ipynb#ch0000000?line=0'>1</a>\u001b[0m \u001b[39mfrom\u001b[39;00m \u001b[39mfhirkit\u001b[39;00m \u001b[39mimport\u001b[39;00m ValueSet, SimpleValueSet\n",
      "\u001b[0;31mModuleNotFoundError\u001b[0m: No module named 'fhirkit'"
     ]
    }
   ],
   "source": [
    "from fhirkit import ValueSet, SimpleValueSet"
   ]
  },
  {
   "cell_type": "code",
   "execution_count": null,
   "metadata": {},
   "outputs": [],
   "source": [
    "url = \"https://build.fhir.org/ig/HL7/fhir-mCODE-ig/ValueSet-mcode-tumor-marker-test-vs.json\""
   ]
  }
 ],
 "metadata": {
  "interpreter": {
   "hash": "8011171a28fb7c8c765e1b994772015134c4c5a4d80a49d4d337ebe92bd91f9e"
  },
  "kernelspec": {
   "display_name": "Python 3.9.9 ('.venv': pipenv)",
   "language": "python",
   "name": "python3"
  },
  "language_info": {
   "codemirror_mode": {
    "name": "ipython",
    "version": 3
   },
   "file_extension": ".py",
   "mimetype": "text/x-python",
   "name": "python",
   "nbconvert_exporter": "python",
   "pygments_lexer": "ipython3",
   "version": "3.9.13"
  },
  "orig_nbformat": 4
 },
 "nbformat": 4,
 "nbformat_minor": 2
}
