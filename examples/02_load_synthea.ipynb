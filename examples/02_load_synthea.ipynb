{
 "cells": [
  {
   "cell_type": "code",
   "execution_count": null,
   "metadata": {},
   "outputs": [],
   "source": []
  }
 ],
 "metadata": {
  "kernelspec": {
   "display_name": "Python 3.9.13 ('.venv': pipenv)",
   "language": "python",
   "name": "python3"
  },
  "language_info": {
   "name": "python",
   "version": "3.9.13"
  },
  "orig_nbformat": 4,
  "vscode": {
   "interpreter": {
    "hash": "8011171a28fb7c8c765e1b994772015134c4c5a4d80a49d4d337ebe92bd91f9e"
   }
  }
 },
 "nbformat": 4,
 "nbformat_minor": 2
}
